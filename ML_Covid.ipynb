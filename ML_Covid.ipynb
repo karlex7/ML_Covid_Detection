{
  "nbformat": 4,
  "nbformat_minor": 0,
  "metadata": {
    "colab": {
      "name": "ML-Covid.ipynb",
      "provenance": [],
      "collapsed_sections": [],
      "toc_visible": true,
      "authorship_tag": "ABX9TyMm2vp6Wo+goSNHKK1WClaj",
      "include_colab_link": true
    },
    "kernelspec": {
      "name": "python3",
      "display_name": "Python 3"
    },
    "language_info": {
      "name": "python"
    }
  },
  "cells": [
    {
      "cell_type": "markdown",
      "metadata": {
        "id": "view-in-github",
        "colab_type": "text"
      },
      "source": [
        "<a href=\"https://colab.research.google.com/github/karlex7/ML_Covid_Detection/blob/main/ML_Covid.ipynb\" target=\"_parent\"><img src=\"https://colab.research.google.com/assets/colab-badge.svg\" alt=\"Open In Colab\"/></a>"
      ]
    },
    {
      "cell_type": "markdown",
      "metadata": {
        "id": "IWlsxNvQWYdP"
      },
      "source": [
        "# Covid-19 detection"
      ]
    },
    {
      "cell_type": "markdown",
      "metadata": {
        "id": "bkWwLgzzWld0"
      },
      "source": [
        "Based on patients answers and the results of real covid-19 test we would like to establish which\n",
        "combination of symptoms will tell us that someone has corona or not. Our hypothesis is that there is link\n",
        "between symptoms data and the result of real covid-19 test and there is a way to calculate that value.\n",
        "\n",
        "\n",
        "This is a medical trail and our goal is to include all patients that are sick which means\n",
        "we want high recall. The worst thing that can happen to us is that we classify a positive person as\n",
        "negative which is False Negative, and we want to avoid that."
      ]
    },
    {
      "cell_type": "code",
      "metadata": {
        "id": "_N--ZvaLm2pe"
      },
      "source": [
        "import pandas as pd\n",
        "import numpy as np\n",
        "import matplotlib.pyplot as plt\n",
        "from sklearn.preprocessing import LabelEncoder\n",
        "import seaborn as sns\n",
        "sns.set(rc={\"figure.figsize\":(6, 8)}) #width=3, #height=4\n",
        "\n",
        "from sklearn.model_selection import train_test_split, cross_val_score\n",
        "from sklearn import metrics\n",
        "from sklearn.metrics import accuracy_score, recall_score\n",
        "\n",
        "\n",
        "from sklearn.model_selection import RepeatedKFold, GridSearchCV\n"
      ],
      "execution_count": 239,
      "outputs": []
    },
    {
      "cell_type": "code",
      "metadata": {
        "colab": {
          "base_uri": "https://localhost:8080/",
          "height": 289
        },
        "id": "Z8vgEPPDydej",
        "outputId": "703317e2-e1e8-4593-8a07-75a9fa42f4b7"
      },
      "source": [
        "covid = pd.read_csv(\"/content/Covid Dataset.csv\")\n",
        "covid.head()"
      ],
      "execution_count": 240,
      "outputs": [
        {
          "output_type": "execute_result",
          "data": {
            "text/html": [
              "<div>\n",
              "<style scoped>\n",
              "    .dataframe tbody tr th:only-of-type {\n",
              "        vertical-align: middle;\n",
              "    }\n",
              "\n",
              "    .dataframe tbody tr th {\n",
              "        vertical-align: top;\n",
              "    }\n",
              "\n",
              "    .dataframe thead th {\n",
              "        text-align: right;\n",
              "    }\n",
              "</style>\n",
              "<table border=\"1\" class=\"dataframe\">\n",
              "  <thead>\n",
              "    <tr style=\"text-align: right;\">\n",
              "      <th></th>\n",
              "      <th>Breathing Problem</th>\n",
              "      <th>Fever</th>\n",
              "      <th>Dry Cough</th>\n",
              "      <th>Sore throat</th>\n",
              "      <th>Running Nose</th>\n",
              "      <th>Asthma</th>\n",
              "      <th>Chronic Lung Disease</th>\n",
              "      <th>Headache</th>\n",
              "      <th>Heart Disease</th>\n",
              "      <th>Diabetes</th>\n",
              "      <th>Hyper Tension</th>\n",
              "      <th>Fatigue</th>\n",
              "      <th>Gastrointestinal</th>\n",
              "      <th>Abroad travel</th>\n",
              "      <th>Contact with COVID Patient</th>\n",
              "      <th>Attended Large Gathering</th>\n",
              "      <th>Visited Public Exposed Places</th>\n",
              "      <th>Family working in Public Exposed Places</th>\n",
              "      <th>Wearing Masks</th>\n",
              "      <th>Sanitization from Market</th>\n",
              "      <th>COVID-19</th>\n",
              "    </tr>\n",
              "  </thead>\n",
              "  <tbody>\n",
              "    <tr>\n",
              "      <th>0</th>\n",
              "      <td>Yes</td>\n",
              "      <td>Yes</td>\n",
              "      <td>Yes</td>\n",
              "      <td>Yes</td>\n",
              "      <td>Yes</td>\n",
              "      <td>No</td>\n",
              "      <td>No</td>\n",
              "      <td>No</td>\n",
              "      <td>No</td>\n",
              "      <td>Yes</td>\n",
              "      <td>Yes</td>\n",
              "      <td>Yes</td>\n",
              "      <td>Yes</td>\n",
              "      <td>No</td>\n",
              "      <td>Yes</td>\n",
              "      <td>No</td>\n",
              "      <td>Yes</td>\n",
              "      <td>Yes</td>\n",
              "      <td>No</td>\n",
              "      <td>No</td>\n",
              "      <td>Yes</td>\n",
              "    </tr>\n",
              "    <tr>\n",
              "      <th>1</th>\n",
              "      <td>Yes</td>\n",
              "      <td>Yes</td>\n",
              "      <td>Yes</td>\n",
              "      <td>Yes</td>\n",
              "      <td>No</td>\n",
              "      <td>Yes</td>\n",
              "      <td>Yes</td>\n",
              "      <td>Yes</td>\n",
              "      <td>No</td>\n",
              "      <td>No</td>\n",
              "      <td>No</td>\n",
              "      <td>Yes</td>\n",
              "      <td>No</td>\n",
              "      <td>No</td>\n",
              "      <td>No</td>\n",
              "      <td>Yes</td>\n",
              "      <td>Yes</td>\n",
              "      <td>No</td>\n",
              "      <td>No</td>\n",
              "      <td>No</td>\n",
              "      <td>Yes</td>\n",
              "    </tr>\n",
              "    <tr>\n",
              "      <th>2</th>\n",
              "      <td>Yes</td>\n",
              "      <td>Yes</td>\n",
              "      <td>Yes</td>\n",
              "      <td>Yes</td>\n",
              "      <td>Yes</td>\n",
              "      <td>Yes</td>\n",
              "      <td>Yes</td>\n",
              "      <td>Yes</td>\n",
              "      <td>No</td>\n",
              "      <td>Yes</td>\n",
              "      <td>No</td>\n",
              "      <td>Yes</td>\n",
              "      <td>Yes</td>\n",
              "      <td>Yes</td>\n",
              "      <td>No</td>\n",
              "      <td>No</td>\n",
              "      <td>No</td>\n",
              "      <td>No</td>\n",
              "      <td>No</td>\n",
              "      <td>No</td>\n",
              "      <td>Yes</td>\n",
              "    </tr>\n",
              "    <tr>\n",
              "      <th>3</th>\n",
              "      <td>Yes</td>\n",
              "      <td>Yes</td>\n",
              "      <td>Yes</td>\n",
              "      <td>No</td>\n",
              "      <td>No</td>\n",
              "      <td>Yes</td>\n",
              "      <td>No</td>\n",
              "      <td>No</td>\n",
              "      <td>Yes</td>\n",
              "      <td>Yes</td>\n",
              "      <td>No</td>\n",
              "      <td>No</td>\n",
              "      <td>No</td>\n",
              "      <td>Yes</td>\n",
              "      <td>No</td>\n",
              "      <td>Yes</td>\n",
              "      <td>Yes</td>\n",
              "      <td>No</td>\n",
              "      <td>No</td>\n",
              "      <td>No</td>\n",
              "      <td>Yes</td>\n",
              "    </tr>\n",
              "    <tr>\n",
              "      <th>4</th>\n",
              "      <td>Yes</td>\n",
              "      <td>Yes</td>\n",
              "      <td>Yes</td>\n",
              "      <td>Yes</td>\n",
              "      <td>Yes</td>\n",
              "      <td>No</td>\n",
              "      <td>Yes</td>\n",
              "      <td>Yes</td>\n",
              "      <td>Yes</td>\n",
              "      <td>Yes</td>\n",
              "      <td>Yes</td>\n",
              "      <td>No</td>\n",
              "      <td>Yes</td>\n",
              "      <td>No</td>\n",
              "      <td>Yes</td>\n",
              "      <td>No</td>\n",
              "      <td>Yes</td>\n",
              "      <td>No</td>\n",
              "      <td>No</td>\n",
              "      <td>No</td>\n",
              "      <td>Yes</td>\n",
              "    </tr>\n",
              "  </tbody>\n",
              "</table>\n",
              "</div>"
            ],
            "text/plain": [
              "  Breathing Problem Fever  ... Sanitization from Market COVID-19\n",
              "0               Yes   Yes  ...                       No      Yes\n",
              "1               Yes   Yes  ...                       No      Yes\n",
              "2               Yes   Yes  ...                       No      Yes\n",
              "3               Yes   Yes  ...                       No      Yes\n",
              "4               Yes   Yes  ...                       No      Yes\n",
              "\n",
              "[5 rows x 21 columns]"
            ]
          },
          "metadata": {},
          "execution_count": 240
        }
      ]
    },
    {
      "cell_type": "code",
      "metadata": {
        "colab": {
          "base_uri": "https://localhost:8080/"
        },
        "id": "tIBgY8lgyzbX",
        "outputId": "ae1f74eb-110e-4b87-ff3f-f96e4e2ec994"
      },
      "source": [
        "covid.shape #(5434, 21)"
      ],
      "execution_count": 241,
      "outputs": [
        {
          "output_type": "execute_result",
          "data": {
            "text/plain": [
              "(5434, 21)"
            ]
          },
          "metadata": {},
          "execution_count": 241
        }
      ]
    },
    {
      "cell_type": "markdown",
      "metadata": {
        "id": "_ztgrARHW2DG"
      },
      "source": [
        "## Data cleaning"
      ]
    },
    {
      "cell_type": "code",
      "metadata": {
        "colab": {
          "base_uri": "https://localhost:8080/"
        },
        "id": "zDE-PgUHyv1l",
        "outputId": "012e0885-d833-4ecc-80b0-bcffdd03250f"
      },
      "source": [
        "covid.isnull().sum().sum()"
      ],
      "execution_count": 242,
      "outputs": [
        {
          "output_type": "execute_result",
          "data": {
            "text/plain": [
              "0"
            ]
          },
          "metadata": {},
          "execution_count": 242
        }
      ]
    },
    {
      "cell_type": "code",
      "metadata": {
        "colab": {
          "base_uri": "https://localhost:8080/"
        },
        "id": "xroupq8Dy4tQ",
        "outputId": "4120d13f-d161-4cda-904a-ed515ca4f6b0"
      },
      "source": [
        "covid.info()"
      ],
      "execution_count": null,
      "outputs": [
        {
          "output_type": "stream",
          "name": "stdout",
          "text": [
            "<class 'pandas.core.frame.DataFrame'>\n",
            "RangeIndex: 5434 entries, 0 to 5433\n",
            "Data columns (total 21 columns):\n",
            " #   Column                                   Non-Null Count  Dtype \n",
            "---  ------                                   --------------  ----- \n",
            " 0   Breathing Problem                        5434 non-null   object\n",
            " 1   Fever                                    5434 non-null   object\n",
            " 2   Dry Cough                                5434 non-null   object\n",
            " 3   Sore throat                              5434 non-null   object\n",
            " 4   Running Nose                             5434 non-null   object\n",
            " 5   Asthma                                   5434 non-null   object\n",
            " 6   Chronic Lung Disease                     5434 non-null   object\n",
            " 7   Headache                                 5434 non-null   object\n",
            " 8   Heart Disease                            5434 non-null   object\n",
            " 9   Diabetes                                 5434 non-null   object\n",
            " 10  Hyper Tension                            5434 non-null   object\n",
            " 11  Fatigue                                  5434 non-null   object\n",
            " 12  Gastrointestinal                         5434 non-null   object\n",
            " 13  Abroad travel                            5434 non-null   object\n",
            " 14  Contact with COVID Patient               5434 non-null   object\n",
            " 15  Attended Large Gathering                 5434 non-null   object\n",
            " 16  Visited Public Exposed Places            5434 non-null   object\n",
            " 17  Family working in Public Exposed Places  5434 non-null   object\n",
            " 18  Wearing Masks                            5434 non-null   object\n",
            " 19  Sanitization from Market                 5434 non-null   object\n",
            " 20  COVID-19                                 5434 non-null   object\n",
            "dtypes: object(21)\n",
            "memory usage: 891.6+ KB\n"
          ]
        }
      ]
    },
    {
      "cell_type": "code",
      "metadata": {
        "colab": {
          "base_uri": "https://localhost:8080/"
        },
        "id": "rEFryufP8Axc",
        "outputId": "dd185b6f-cc99-48ca-ff07-49ce22021a4e"
      },
      "source": [
        "covid.columns"
      ],
      "execution_count": null,
      "outputs": [
        {
          "output_type": "execute_result",
          "data": {
            "text/plain": [
              "Index(['Breathing Problem', 'Fever', 'Dry Cough', 'Sore throat',\n",
              "       'Running Nose', 'Asthma', 'Chronic Lung Disease', 'Headache',\n",
              "       'Heart Disease', 'Diabetes', 'Hyper Tension', 'Fatigue ',\n",
              "       'Gastrointestinal ', 'Abroad travel', 'Contact with COVID Patient',\n",
              "       'Attended Large Gathering', 'Visited Public Exposed Places',\n",
              "       'Family working in Public Exposed Places', 'Wearing Masks',\n",
              "       'Sanitization from Market', 'COVID-19'],\n",
              "      dtype='object')"
            ]
          },
          "metadata": {},
          "execution_count": 139
        }
      ]
    },
    {
      "cell_type": "code",
      "metadata": {
        "id": "R-LLRNpMXXBJ"
      },
      "source": [
        "label_encoder = LabelEncoder()"
      ],
      "execution_count": null,
      "outputs": []
    },
    {
      "cell_type": "code",
      "metadata": {
        "id": "nDsyNzczVZ96"
      },
      "source": [
        "covid['Breathing Problem']=label_encoder.fit_transform(covid['Breathing Problem'])\n",
        "covid['Fever']=label_encoder.fit_transform(covid['Fever'])\n",
        "covid['Dry Cough']=label_encoder.fit_transform(covid['Dry Cough'])\n",
        "covid['Sore throat']=label_encoder.fit_transform(covid['Sore throat'])\n",
        "covid['Running Nose']=label_encoder.fit_transform(covid['Running Nose'])\n",
        "covid['Asthma']=label_encoder.fit_transform(covid['Asthma'])\n",
        "covid['Chronic Lung Disease']=label_encoder.fit_transform(covid['Chronic Lung Disease'])\n",
        "covid['Headache']=label_encoder.fit_transform(covid['Headache'])\n",
        "covid['Heart Disease']=label_encoder.fit_transform(covid['Heart Disease'])\n",
        "covid['Diabetes']=label_encoder.fit_transform(covid['Diabetes'])\n",
        "covid['Hyper Tension']=label_encoder.fit_transform(covid['Hyper Tension'])\n",
        "covid['Abroad travel']=label_encoder.fit_transform(covid['Abroad travel'])\n",
        "covid['Contact with COVID Patient']=label_encoder.fit_transform(covid['Contact with COVID Patient'])\n",
        "covid['Attended Large Gathering']=label_encoder.fit_transform(covid['Attended Large Gathering'])\n",
        "covid['Visited Public Exposed Places']=label_encoder.fit_transform(covid['Visited Public Exposed Places'])\n",
        "covid['Family working in Public Exposed Places']=label_encoder.fit_transform(covid['Family working in Public Exposed Places'])\n",
        "covid['Wearing Masks']=label_encoder.fit_transform(covid['Wearing Masks'])\n",
        "covid['Sanitization from Market']=label_encoder.fit_transform(covid['Sanitization from Market'])\n",
        "covid['COVID-19']=label_encoder.fit_transform(covid['COVID-19'])\n",
        "covid['Dry Cough']=label_encoder.fit_transform(covid['Dry Cough'])\n",
        "covid['Sore throat']=label_encoder.fit_transform(covid['Sore throat'])\n",
        "covid['Gastrointestinal ']=label_encoder.fit_transform(covid['Gastrointestinal '])\n",
        "covid['Fatigue ']=label_encoder.fit_transform(covid['Fatigue '])"
      ],
      "execution_count": null,
      "outputs": []
    },
    {
      "cell_type": "code",
      "metadata": {
        "colab": {
          "base_uri": "https://localhost:8080/",
          "height": 309
        },
        "id": "5fVN1XBKVaDr",
        "outputId": "71405a9d-7401-4ba2-9637-3dc18e0c909d"
      },
      "source": [
        "covid.head()"
      ],
      "execution_count": null,
      "outputs": [
        {
          "output_type": "execute_result",
          "data": {
            "text/html": [
              "<div>\n",
              "<style scoped>\n",
              "    .dataframe tbody tr th:only-of-type {\n",
              "        vertical-align: middle;\n",
              "    }\n",
              "\n",
              "    .dataframe tbody tr th {\n",
              "        vertical-align: top;\n",
              "    }\n",
              "\n",
              "    .dataframe thead th {\n",
              "        text-align: right;\n",
              "    }\n",
              "</style>\n",
              "<table border=\"1\" class=\"dataframe\">\n",
              "  <thead>\n",
              "    <tr style=\"text-align: right;\">\n",
              "      <th></th>\n",
              "      <th>Breathing Problem</th>\n",
              "      <th>Fever</th>\n",
              "      <th>Dry Cough</th>\n",
              "      <th>Sore throat</th>\n",
              "      <th>Running Nose</th>\n",
              "      <th>Asthma</th>\n",
              "      <th>Chronic Lung Disease</th>\n",
              "      <th>Headache</th>\n",
              "      <th>Heart Disease</th>\n",
              "      <th>Diabetes</th>\n",
              "      <th>Hyper Tension</th>\n",
              "      <th>Fatigue</th>\n",
              "      <th>Gastrointestinal</th>\n",
              "      <th>Abroad travel</th>\n",
              "      <th>Contact with COVID Patient</th>\n",
              "      <th>Attended Large Gathering</th>\n",
              "      <th>Visited Public Exposed Places</th>\n",
              "      <th>Family working in Public Exposed Places</th>\n",
              "      <th>Wearing Masks</th>\n",
              "      <th>Sanitization from Market</th>\n",
              "      <th>COVID-19</th>\n",
              "    </tr>\n",
              "  </thead>\n",
              "  <tbody>\n",
              "    <tr>\n",
              "      <th>0</th>\n",
              "      <td>1</td>\n",
              "      <td>1</td>\n",
              "      <td>1</td>\n",
              "      <td>1</td>\n",
              "      <td>1</td>\n",
              "      <td>0</td>\n",
              "      <td>0</td>\n",
              "      <td>0</td>\n",
              "      <td>0</td>\n",
              "      <td>1</td>\n",
              "      <td>1</td>\n",
              "      <td>1</td>\n",
              "      <td>1</td>\n",
              "      <td>0</td>\n",
              "      <td>1</td>\n",
              "      <td>0</td>\n",
              "      <td>1</td>\n",
              "      <td>1</td>\n",
              "      <td>0</td>\n",
              "      <td>0</td>\n",
              "      <td>1</td>\n",
              "    </tr>\n",
              "    <tr>\n",
              "      <th>1</th>\n",
              "      <td>1</td>\n",
              "      <td>1</td>\n",
              "      <td>1</td>\n",
              "      <td>1</td>\n",
              "      <td>0</td>\n",
              "      <td>1</td>\n",
              "      <td>1</td>\n",
              "      <td>1</td>\n",
              "      <td>0</td>\n",
              "      <td>0</td>\n",
              "      <td>0</td>\n",
              "      <td>1</td>\n",
              "      <td>0</td>\n",
              "      <td>0</td>\n",
              "      <td>0</td>\n",
              "      <td>1</td>\n",
              "      <td>1</td>\n",
              "      <td>0</td>\n",
              "      <td>0</td>\n",
              "      <td>0</td>\n",
              "      <td>1</td>\n",
              "    </tr>\n",
              "    <tr>\n",
              "      <th>2</th>\n",
              "      <td>1</td>\n",
              "      <td>1</td>\n",
              "      <td>1</td>\n",
              "      <td>1</td>\n",
              "      <td>1</td>\n",
              "      <td>1</td>\n",
              "      <td>1</td>\n",
              "      <td>1</td>\n",
              "      <td>0</td>\n",
              "      <td>1</td>\n",
              "      <td>0</td>\n",
              "      <td>1</td>\n",
              "      <td>1</td>\n",
              "      <td>1</td>\n",
              "      <td>0</td>\n",
              "      <td>0</td>\n",
              "      <td>0</td>\n",
              "      <td>0</td>\n",
              "      <td>0</td>\n",
              "      <td>0</td>\n",
              "      <td>1</td>\n",
              "    </tr>\n",
              "    <tr>\n",
              "      <th>3</th>\n",
              "      <td>1</td>\n",
              "      <td>1</td>\n",
              "      <td>1</td>\n",
              "      <td>0</td>\n",
              "      <td>0</td>\n",
              "      <td>1</td>\n",
              "      <td>0</td>\n",
              "      <td>0</td>\n",
              "      <td>1</td>\n",
              "      <td>1</td>\n",
              "      <td>0</td>\n",
              "      <td>0</td>\n",
              "      <td>0</td>\n",
              "      <td>1</td>\n",
              "      <td>0</td>\n",
              "      <td>1</td>\n",
              "      <td>1</td>\n",
              "      <td>0</td>\n",
              "      <td>0</td>\n",
              "      <td>0</td>\n",
              "      <td>1</td>\n",
              "    </tr>\n",
              "    <tr>\n",
              "      <th>4</th>\n",
              "      <td>1</td>\n",
              "      <td>1</td>\n",
              "      <td>1</td>\n",
              "      <td>1</td>\n",
              "      <td>1</td>\n",
              "      <td>0</td>\n",
              "      <td>1</td>\n",
              "      <td>1</td>\n",
              "      <td>1</td>\n",
              "      <td>1</td>\n",
              "      <td>1</td>\n",
              "      <td>0</td>\n",
              "      <td>1</td>\n",
              "      <td>0</td>\n",
              "      <td>1</td>\n",
              "      <td>0</td>\n",
              "      <td>1</td>\n",
              "      <td>0</td>\n",
              "      <td>0</td>\n",
              "      <td>0</td>\n",
              "      <td>1</td>\n",
              "    </tr>\n",
              "  </tbody>\n",
              "</table>\n",
              "</div>"
            ],
            "text/plain": [
              "   Breathing Problem  Fever  ...  Sanitization from Market  COVID-19\n",
              "0                  1      1  ...                         0         1\n",
              "1                  1      1  ...                         0         1\n",
              "2                  1      1  ...                         0         1\n",
              "3                  1      1  ...                         0         1\n",
              "4                  1      1  ...                         0         1\n",
              "\n",
              "[5 rows x 21 columns]"
            ]
          },
          "metadata": {},
          "execution_count": 142
        }
      ]
    },
    {
      "cell_type": "code",
      "metadata": {
        "colab": {
          "base_uri": "https://localhost:8080/"
        },
        "id": "t6dAdbblYxs8",
        "outputId": "9358ce22-3b53-4a63-fb5d-52ee067d8b7b"
      },
      "source": [
        "covid.shape #(5434, 21)"
      ],
      "execution_count": null,
      "outputs": [
        {
          "output_type": "execute_result",
          "data": {
            "text/plain": [
              "(5434, 21)"
            ]
          },
          "metadata": {},
          "execution_count": 143
        }
      ]
    },
    {
      "cell_type": "markdown",
      "metadata": {
        "id": "UnOza09XXCPp"
      },
      "source": [
        "## Exploratory analysis"
      ]
    },
    {
      "cell_type": "code",
      "metadata": {
        "colab": {
          "base_uri": "https://localhost:8080/",
          "height": 385
        },
        "id": "sBoqrIq58SDH",
        "outputId": "e3748eca-8930-47fe-dc18-e20d95c8cd1e"
      },
      "source": [
        "covid.describe()"
      ],
      "execution_count": null,
      "outputs": [
        {
          "output_type": "execute_result",
          "data": {
            "text/html": [
              "<div>\n",
              "<style scoped>\n",
              "    .dataframe tbody tr th:only-of-type {\n",
              "        vertical-align: middle;\n",
              "    }\n",
              "\n",
              "    .dataframe tbody tr th {\n",
              "        vertical-align: top;\n",
              "    }\n",
              "\n",
              "    .dataframe thead th {\n",
              "        text-align: right;\n",
              "    }\n",
              "</style>\n",
              "<table border=\"1\" class=\"dataframe\">\n",
              "  <thead>\n",
              "    <tr style=\"text-align: right;\">\n",
              "      <th></th>\n",
              "      <th>Breathing Problem</th>\n",
              "      <th>Fever</th>\n",
              "      <th>Dry Cough</th>\n",
              "      <th>Sore throat</th>\n",
              "      <th>Running Nose</th>\n",
              "      <th>Asthma</th>\n",
              "      <th>Chronic Lung Disease</th>\n",
              "      <th>Headache</th>\n",
              "      <th>Heart Disease</th>\n",
              "      <th>Diabetes</th>\n",
              "      <th>Hyper Tension</th>\n",
              "      <th>Fatigue</th>\n",
              "      <th>Gastrointestinal</th>\n",
              "      <th>Abroad travel</th>\n",
              "      <th>Contact with COVID Patient</th>\n",
              "      <th>Attended Large Gathering</th>\n",
              "      <th>Visited Public Exposed Places</th>\n",
              "      <th>Family working in Public Exposed Places</th>\n",
              "      <th>Wearing Masks</th>\n",
              "      <th>Sanitization from Market</th>\n",
              "      <th>COVID-19</th>\n",
              "    </tr>\n",
              "  </thead>\n",
              "  <tbody>\n",
              "    <tr>\n",
              "      <th>count</th>\n",
              "      <td>5434.000000</td>\n",
              "      <td>5434.000000</td>\n",
              "      <td>5434.000000</td>\n",
              "      <td>5434.000000</td>\n",
              "      <td>5434.000000</td>\n",
              "      <td>5434.000000</td>\n",
              "      <td>5434.000000</td>\n",
              "      <td>5434.000000</td>\n",
              "      <td>5434.000000</td>\n",
              "      <td>5434.000000</td>\n",
              "      <td>5434.000000</td>\n",
              "      <td>5434.000000</td>\n",
              "      <td>5434.000000</td>\n",
              "      <td>5434.000000</td>\n",
              "      <td>5434.000000</td>\n",
              "      <td>5434.000000</td>\n",
              "      <td>5434.000000</td>\n",
              "      <td>5434.000000</td>\n",
              "      <td>5434.0</td>\n",
              "      <td>5434.0</td>\n",
              "      <td>5434.000000</td>\n",
              "    </tr>\n",
              "    <tr>\n",
              "      <th>mean</th>\n",
              "      <td>0.666176</td>\n",
              "      <td>0.786345</td>\n",
              "      <td>0.792602</td>\n",
              "      <td>0.727457</td>\n",
              "      <td>0.543246</td>\n",
              "      <td>0.462643</td>\n",
              "      <td>0.472028</td>\n",
              "      <td>0.503497</td>\n",
              "      <td>0.464299</td>\n",
              "      <td>0.476261</td>\n",
              "      <td>0.490063</td>\n",
              "      <td>0.519139</td>\n",
              "      <td>0.469452</td>\n",
              "      <td>0.451049</td>\n",
              "      <td>0.501656</td>\n",
              "      <td>0.461907</td>\n",
              "      <td>0.518955</td>\n",
              "      <td>0.416268</td>\n",
              "      <td>0.0</td>\n",
              "      <td>0.0</td>\n",
              "      <td>0.806588</td>\n",
              "    </tr>\n",
              "    <tr>\n",
              "      <th>std</th>\n",
              "      <td>0.471621</td>\n",
              "      <td>0.409924</td>\n",
              "      <td>0.405480</td>\n",
              "      <td>0.445309</td>\n",
              "      <td>0.498172</td>\n",
              "      <td>0.498648</td>\n",
              "      <td>0.499263</td>\n",
              "      <td>0.500034</td>\n",
              "      <td>0.498770</td>\n",
              "      <td>0.499482</td>\n",
              "      <td>0.499947</td>\n",
              "      <td>0.499680</td>\n",
              "      <td>0.499112</td>\n",
              "      <td>0.497644</td>\n",
              "      <td>0.500043</td>\n",
              "      <td>0.498593</td>\n",
              "      <td>0.499687</td>\n",
              "      <td>0.492984</td>\n",
              "      <td>0.0</td>\n",
              "      <td>0.0</td>\n",
              "      <td>0.395009</td>\n",
              "    </tr>\n",
              "    <tr>\n",
              "      <th>min</th>\n",
              "      <td>0.000000</td>\n",
              "      <td>0.000000</td>\n",
              "      <td>0.000000</td>\n",
              "      <td>0.000000</td>\n",
              "      <td>0.000000</td>\n",
              "      <td>0.000000</td>\n",
              "      <td>0.000000</td>\n",
              "      <td>0.000000</td>\n",
              "      <td>0.000000</td>\n",
              "      <td>0.000000</td>\n",
              "      <td>0.000000</td>\n",
              "      <td>0.000000</td>\n",
              "      <td>0.000000</td>\n",
              "      <td>0.000000</td>\n",
              "      <td>0.000000</td>\n",
              "      <td>0.000000</td>\n",
              "      <td>0.000000</td>\n",
              "      <td>0.000000</td>\n",
              "      <td>0.0</td>\n",
              "      <td>0.0</td>\n",
              "      <td>0.000000</td>\n",
              "    </tr>\n",
              "    <tr>\n",
              "      <th>25%</th>\n",
              "      <td>0.000000</td>\n",
              "      <td>1.000000</td>\n",
              "      <td>1.000000</td>\n",
              "      <td>0.000000</td>\n",
              "      <td>0.000000</td>\n",
              "      <td>0.000000</td>\n",
              "      <td>0.000000</td>\n",
              "      <td>0.000000</td>\n",
              "      <td>0.000000</td>\n",
              "      <td>0.000000</td>\n",
              "      <td>0.000000</td>\n",
              "      <td>0.000000</td>\n",
              "      <td>0.000000</td>\n",
              "      <td>0.000000</td>\n",
              "      <td>0.000000</td>\n",
              "      <td>0.000000</td>\n",
              "      <td>0.000000</td>\n",
              "      <td>0.000000</td>\n",
              "      <td>0.0</td>\n",
              "      <td>0.0</td>\n",
              "      <td>1.000000</td>\n",
              "    </tr>\n",
              "    <tr>\n",
              "      <th>50%</th>\n",
              "      <td>1.000000</td>\n",
              "      <td>1.000000</td>\n",
              "      <td>1.000000</td>\n",
              "      <td>1.000000</td>\n",
              "      <td>1.000000</td>\n",
              "      <td>0.000000</td>\n",
              "      <td>0.000000</td>\n",
              "      <td>1.000000</td>\n",
              "      <td>0.000000</td>\n",
              "      <td>0.000000</td>\n",
              "      <td>0.000000</td>\n",
              "      <td>1.000000</td>\n",
              "      <td>0.000000</td>\n",
              "      <td>0.000000</td>\n",
              "      <td>1.000000</td>\n",
              "      <td>0.000000</td>\n",
              "      <td>1.000000</td>\n",
              "      <td>0.000000</td>\n",
              "      <td>0.0</td>\n",
              "      <td>0.0</td>\n",
              "      <td>1.000000</td>\n",
              "    </tr>\n",
              "    <tr>\n",
              "      <th>75%</th>\n",
              "      <td>1.000000</td>\n",
              "      <td>1.000000</td>\n",
              "      <td>1.000000</td>\n",
              "      <td>1.000000</td>\n",
              "      <td>1.000000</td>\n",
              "      <td>1.000000</td>\n",
              "      <td>1.000000</td>\n",
              "      <td>1.000000</td>\n",
              "      <td>1.000000</td>\n",
              "      <td>1.000000</td>\n",
              "      <td>1.000000</td>\n",
              "      <td>1.000000</td>\n",
              "      <td>1.000000</td>\n",
              "      <td>1.000000</td>\n",
              "      <td>1.000000</td>\n",
              "      <td>1.000000</td>\n",
              "      <td>1.000000</td>\n",
              "      <td>1.000000</td>\n",
              "      <td>0.0</td>\n",
              "      <td>0.0</td>\n",
              "      <td>1.000000</td>\n",
              "    </tr>\n",
              "    <tr>\n",
              "      <th>max</th>\n",
              "      <td>1.000000</td>\n",
              "      <td>1.000000</td>\n",
              "      <td>1.000000</td>\n",
              "      <td>1.000000</td>\n",
              "      <td>1.000000</td>\n",
              "      <td>1.000000</td>\n",
              "      <td>1.000000</td>\n",
              "      <td>1.000000</td>\n",
              "      <td>1.000000</td>\n",
              "      <td>1.000000</td>\n",
              "      <td>1.000000</td>\n",
              "      <td>1.000000</td>\n",
              "      <td>1.000000</td>\n",
              "      <td>1.000000</td>\n",
              "      <td>1.000000</td>\n",
              "      <td>1.000000</td>\n",
              "      <td>1.000000</td>\n",
              "      <td>1.000000</td>\n",
              "      <td>0.0</td>\n",
              "      <td>0.0</td>\n",
              "      <td>1.000000</td>\n",
              "    </tr>\n",
              "  </tbody>\n",
              "</table>\n",
              "</div>"
            ],
            "text/plain": [
              "       Breathing Problem        Fever  ...  Sanitization from Market     COVID-19\n",
              "count        5434.000000  5434.000000  ...                    5434.0  5434.000000\n",
              "mean            0.666176     0.786345  ...                       0.0     0.806588\n",
              "std             0.471621     0.409924  ...                       0.0     0.395009\n",
              "min             0.000000     0.000000  ...                       0.0     0.000000\n",
              "25%             0.000000     1.000000  ...                       0.0     1.000000\n",
              "50%             1.000000     1.000000  ...                       0.0     1.000000\n",
              "75%             1.000000     1.000000  ...                       0.0     1.000000\n",
              "max             1.000000     1.000000  ...                       0.0     1.000000\n",
              "\n",
              "[8 rows x 21 columns]"
            ]
          },
          "metadata": {},
          "execution_count": 144
        }
      ]
    },
    {
      "cell_type": "code",
      "metadata": {
        "colab": {
          "base_uri": "https://localhost:8080/",
          "height": 519
        },
        "id": "bp2MVtgj8x6-",
        "outputId": "ef18f40f-7416-49f1-befb-b41d571e0e3e"
      },
      "source": [
        "sns.countplot(x='COVID-19', data = covid)"
      ],
      "execution_count": null,
      "outputs": [
        {
          "output_type": "execute_result",
          "data": {
            "text/plain": [
              "<matplotlib.axes._subplots.AxesSubplot at 0x7f0419ce2890>"
            ]
          },
          "metadata": {},
          "execution_count": 145
        },
        {
          "output_type": "display_data",
          "data": {
            "image/png": "[encoded data removed]",
            "text/plain": [
              "<Figure size 432x576 with 1 Axes>"
            ]
          },
          "metadata": {}
        }
      ]
    },
    {
      "cell_type": "code",
      "metadata": {
        "colab": {
          "base_uri": "https://localhost:8080/",
          "height": 882
        },
        "id": "t5To6gTdZTIN",
        "outputId": "28bebd46-46d9-455d-d1d1-4c1e982c691c"
      },
      "source": [
        "covid.hist(figsize=(20,15))\n",
        "plt.show()"
      ],
      "execution_count": null,
      "outputs": [
        {
          "output_type": "display_data",
          "data": {
            "image/png": "[encoded data removed]",
            "text/plain": [
              "<Figure size 1440x1080 with 25 Axes>"
            ]
          },
          "metadata": {}
        }
      ]
    },
    {
      "cell_type": "markdown",
      "metadata": {
        "id": "0nXXsXv0XHxo"
      },
      "source": [
        "## Feature selection"
      ]
    },
    {
      "cell_type": "code",
      "metadata": {
        "colab": {
          "base_uri": "https://localhost:8080/"
        },
        "id": "HpEiWEEhZ2am",
        "outputId": "0e57fb0e-42dc-449b-a640-4c85c39fc29d"
      },
      "source": [
        "correlations = covid.corrwith(covid['COVID-19'])\n",
        "correlations"
      ],
      "execution_count": null,
      "outputs": [
        {
          "output_type": "execute_result",
          "data": {
            "text/plain": [
              "Breathing Problem                          0.443764\n",
              "Fever                                      0.352891\n",
              "Dry Cough                                  0.464292\n",
              "Sore throat                                0.502848\n",
              "Running Nose                              -0.005657\n",
              "Asthma                                     0.089930\n",
              "Chronic Lung Disease                      -0.056837\n",
              "Headache                                  -0.027793\n",
              "Heart Disease                              0.027072\n",
              "Diabetes                                   0.040627\n",
              "Hyper Tension                              0.102575\n",
              "Fatigue                                   -0.044188\n",
              "Gastrointestinal                          -0.003367\n",
              "Abroad travel                              0.443875\n",
              "Contact with COVID Patient                 0.357122\n",
              "Attended Large Gathering                   0.390145\n",
              "Visited Public Exposed Places              0.119755\n",
              "Family working in Public Exposed Places    0.160208\n",
              "Wearing Masks                                   NaN\n",
              "Sanitization from Market                        NaN\n",
              "COVID-19                                   1.000000\n",
              "dtype: float64"
            ]
          },
          "metadata": {},
          "execution_count": 147
        }
      ]
    },
    {
      "cell_type": "code",
      "metadata": {
        "id": "Go3GHxp6ailI"
      },
      "source": [
        "covid = covid.drop('Sanitization from Market', axis=1)\n",
        "covid = covid.drop('Wearing Masks', axis=1)\n",
        "covid = covid.drop('Gastrointestinal ', axis=1)\n",
        "covid = covid.drop('Fatigue ', axis=1)\n",
        "covid = covid.drop('Diabetes', axis=1)\n",
        "covid = covid.drop('Heart Disease', axis=1)\n",
        "covid = covid.drop('Headache', axis=1)\n",
        "covid = covid.drop('Chronic Lung Disease', axis=1)\n",
        "covid = covid.drop('Running Nose', axis=1)"
      ],
      "execution_count": null,
      "outputs": []
    },
    {
      "cell_type": "code",
      "metadata": {
        "colab": {
          "base_uri": "https://localhost:8080/"
        },
        "id": "2G0inwQ_krT7",
        "outputId": "bd2b3a49-b632-4a90-cf94-61cbf0af9af3"
      },
      "source": [
        "covid.shape #(5434, 12)"
      ],
      "execution_count": null,
      "outputs": [
        {
          "output_type": "execute_result",
          "data": {
            "text/plain": [
              "(5434, 12)"
            ]
          },
          "metadata": {},
          "execution_count": 167
        }
      ]
    },
    {
      "cell_type": "markdown",
      "metadata": {
        "id": "U-oM_1lyXOHi"
      },
      "source": [
        "## Models"
      ]
    },
    {
      "cell_type": "code",
      "metadata": {
        "id": "aC-JfssCl0Ly"
      },
      "source": [
        "train, test = train_test_split(covid, test_size = 0.30)"
      ],
      "execution_count": null,
      "outputs": []
    },
    {
      "cell_type": "code",
      "metadata": {
        "id": "Fn1orDo7r1Kl"
      },
      "source": [
        "x_test=test.drop('COVID-19',axis=1)\n",
        "y_test=test['COVID-19']"
      ],
      "execution_count": null,
      "outputs": []
    },
    {
      "cell_type": "code",
      "metadata": {
        "id": "56OXwgvruS_L"
      },
      "source": [
        "train, validate = train_test_split(train, test_size = 0.30)"
      ],
      "execution_count": null,
      "outputs": []
    },
    {
      "cell_type": "code",
      "metadata": {
        "id": "uD0WMHmOumMn"
      },
      "source": [
        "x_train=train.drop('COVID-19',axis=1)\n",
        "y_train=train['COVID-19']\n",
        "\n",
        "x_validate=validate.drop('COVID-19',axis=1)\n",
        "y_validate=validate['COVID-19']"
      ],
      "execution_count": null,
      "outputs": []
    },
    {
      "cell_type": "markdown",
      "metadata": {
        "id": "sb_fVyLCr6nG"
      },
      "source": [
        "### Logistic Regresion"
      ]
    },
    {
      "cell_type": "code",
      "metadata": {
        "colab": {
          "base_uri": "https://localhost:8080/"
        },
        "id": "sbgkbkJer9oF",
        "outputId": "397394fb-29f7-4440-fc3a-80fa8a09e7f4"
      },
      "source": [
        "from sklearn.linear_model import LogisticRegression\n",
        "log_reg = LogisticRegression()\n",
        "\n",
        "rkf = RepeatedKFold(n_splits=10, n_repeats=10, random_state=10)\n",
        "\n",
        "scores = cross_val_score(log_reg, x_train, y_train, scoring='recall', cv=rkf, n_jobs=-1)\n",
        "print('Score: %.3f (%.3f)' % (np.mean(scores), np.std(scores)))"
      ],
      "execution_count": null,
      "outputs": [
        {
          "output_type": "stream",
          "name": "stdout",
          "text": [
            "Score: 0.987 (0.009)\n"
          ]
        }
      ]
    },
    {
      "cell_type": "markdown",
      "metadata": {
        "id": "8sNjbuRtwDjV"
      },
      "source": [
        "### Random Forest"
      ]
    },
    {
      "cell_type": "code",
      "metadata": {
        "colab": {
          "base_uri": "https://localhost:8080/"
        },
        "id": "jJyz6gJ6vnCk",
        "outputId": "4d31fca7-dc0c-48cb-e384-5564ae822cd3"
      },
      "source": [
        "from sklearn.ensemble import RandomForestClassifier\n",
        "#rkf = RepeatedKFold(n_splits=10, n_repeats=10, random_state=10)\n",
        "\n",
        "rf = RandomForestClassifier()\n",
        "\n",
        "param_grid = [\n",
        "    {\n",
        "        \"n_estimators\": [300, 400, 500],\n",
        "        \"min_samples_leaf\": [1, 2]\n",
        "    }\n",
        "]\n",
        "\n",
        "rf_gridserach = GridSearchCV(rf, cv=rkf, n_jobs=8,\n",
        "                              param_grid=param_grid,\n",
        "                              return_train_score=True, \n",
        "                              scoring='recall')\n",
        "rf_gridserach.fit(x_train, y_train)"
      ],
      "execution_count": null,
      "outputs": [
        {
          "output_type": "execute_result",
          "data": {
            "text/plain": [
              "GridSearchCV(cv=RepeatedKFold(n_repeats=10, n_splits=10, random_state=10),\n",
              "             error_score=nan,\n",
              "             estimator=RandomForestClassifier(bootstrap=True, ccp_alpha=0.0,\n",
              "                                              class_weight=None,\n",
              "                                              criterion='gini', max_depth=None,\n",
              "                                              max_features='auto',\n",
              "                                              max_leaf_nodes=None,\n",
              "                                              max_samples=None,\n",
              "                                              min_impurity_decrease=0.0,\n",
              "                                              min_impurity_split=None,\n",
              "                                              min_samples_leaf=1,\n",
              "                                              min_samples_split=2,\n",
              "                                              min_weight_fraction_leaf=0.0,\n",
              "                                              n_estimators=100, n_jobs=None,\n",
              "                                              oob_score=False,\n",
              "                                              random_state=None, verbose=0,\n",
              "                                              warm_start=False),\n",
              "             iid='deprecated', n_jobs=8,\n",
              "             param_grid=[{'min_samples_leaf': [1, 2],\n",
              "                          'n_estimators': [300, 400, 500]}],\n",
              "             pre_dispatch='2*n_jobs', refit=True, return_train_score=True,\n",
              "             scoring='recall', verbose=0)"
            ]
          },
          "metadata": {},
          "execution_count": 217
        }
      ]
    },
    {
      "cell_type": "code",
      "metadata": {
        "colab": {
          "base_uri": "https://localhost:8080/"
        },
        "id": "qHSPpztNwUu8",
        "outputId": "0bbaf1cf-d8c8-42ea-9d5d-835ae94b30bc"
      },
      "source": [
        "rf_gridserach.best_params_ #{'min_samples_leaf': 1, 'n_estimators': 400}"
      ],
      "execution_count": null,
      "outputs": [
        {
          "output_type": "execute_result",
          "data": {
            "text/plain": [
              "{'min_samples_leaf': 1, 'n_estimators': 400}"
            ]
          },
          "metadata": {},
          "execution_count": 207
        }
      ]
    },
    {
      "cell_type": "code",
      "metadata": {
        "colab": {
          "base_uri": "https://localhost:8080/"
        },
        "id": "_m9YkXmV1SKF",
        "outputId": "e071f546-7ba8-4847-90ac-5ca6580eb4f3"
      },
      "source": [
        "rf_gridserach.best_score_"
      ],
      "execution_count": null,
      "outputs": [
        {
          "output_type": "execute_result",
          "data": {
            "text/plain": [
              "0.9774248824307961"
            ]
          },
          "metadata": {},
          "execution_count": 208
        }
      ]
    },
    {
      "cell_type": "code",
      "metadata": {
        "colab": {
          "base_uri": "https://localhost:8080/"
        },
        "id": "46dzYbOn3gX8",
        "outputId": "a06aa83a-7bf4-423b-e654-df1dab2fc5a6"
      },
      "source": [
        "rf = RandomForestClassifier(n_estimators=400, min_samples_leaf=1)\n",
        "rf.fit(x_train, y_train)"
      ],
      "execution_count": null,
      "outputs": [
        {
          "output_type": "execute_result",
          "data": {
            "text/plain": [
              "RandomForestClassifier(bootstrap=True, ccp_alpha=0.0, class_weight=None,\n",
              "                       criterion='gini', max_depth=None, max_features='auto',\n",
              "                       max_leaf_nodes=None, max_samples=None,\n",
              "                       min_impurity_decrease=0.0, min_impurity_split=None,\n",
              "                       min_samples_leaf=1, min_samples_split=2,\n",
              "                       min_weight_fraction_leaf=0.0, n_estimators=400,\n",
              "                       n_jobs=None, oob_score=False, random_state=None,\n",
              "                       verbose=0, warm_start=False)"
            ]
          },
          "metadata": {},
          "execution_count": 209
        }
      ]
    },
    {
      "cell_type": "markdown",
      "metadata": {
        "id": "17y7hyRQ39-L"
      },
      "source": [
        "### KNN"
      ]
    },
    {
      "cell_type": "code",
      "metadata": {
        "colab": {
          "base_uri": "https://localhost:8080/"
        },
        "id": "anCFGvQ_4Lh2",
        "outputId": "19fd09bd-80e3-46de-e1b2-a47b88134403"
      },
      "source": [
        "from sklearn.neighbors import KNeighborsClassifier\n",
        "\n",
        "knn = KNeighborsClassifier()\n",
        "\n",
        "param_grid = [\n",
        "    {\n",
        "        \"n_neighbors\": [10, 20, 30]\n",
        "    }\n",
        "]\n",
        "\n",
        "knn_gridserach = GridSearchCV(knn, cv=rkf, n_jobs=8,\n",
        "                              param_grid=param_grid,\n",
        "                              return_train_score=True, \n",
        "                              scoring='recall')\n",
        "knn_gridserach.fit(x_train, y_train)"
      ],
      "execution_count": null,
      "outputs": [
        {
          "output_type": "execute_result",
          "data": {
            "text/plain": [
              "GridSearchCV(cv=RepeatedKFold(n_repeats=10, n_splits=10, random_state=10),\n",
              "             error_score=nan,\n",
              "             estimator=KNeighborsClassifier(algorithm='auto', leaf_size=30,\n",
              "                                            metric='minkowski',\n",
              "                                            metric_params=None, n_jobs=None,\n",
              "                                            n_neighbors=5, p=2,\n",
              "                                            weights='uniform'),\n",
              "             iid='deprecated', n_jobs=8,\n",
              "             param_grid=[{'n_neighbors': [10, 20, 30]}],\n",
              "             pre_dispatch='2*n_jobs', refit=True, return_train_score=True,\n",
              "             scoring='recall', verbose=0)"
            ]
          },
          "metadata": {},
          "execution_count": 214
        }
      ]
    },
    {
      "cell_type": "code",
      "metadata": {
        "colab": {
          "base_uri": "https://localhost:8080/"
        },
        "id": "CXE8kVuw4X2j",
        "outputId": "1de04130-9a20-4f58-af7f-33eacc34df0d"
      },
      "source": [
        "knn_gridserach.best_params_"
      ],
      "execution_count": null,
      "outputs": [
        {
          "output_type": "execute_result",
          "data": {
            "text/plain": [
              "{'n_neighbors': 30}"
            ]
          },
          "metadata": {},
          "execution_count": 215
        }
      ]
    },
    {
      "cell_type": "code",
      "metadata": {
        "colab": {
          "base_uri": "https://localhost:8080/"
        },
        "id": "P9w5ySZ75CHt",
        "outputId": "5a505fc5-b3fc-4e81-ef99-0b38798bf66b"
      },
      "source": [
        "knn_gridserach.best_score_"
      ],
      "execution_count": null,
      "outputs": [
        {
          "output_type": "execute_result",
          "data": {
            "text/plain": [
              "0.987833631692896"
            ]
          },
          "metadata": {},
          "execution_count": 216
        }
      ]
    },
    {
      "cell_type": "code",
      "metadata": {
        "id": "L8br5efFhIA6"
      },
      "source": [
        "knn = KNeighborsClassifier(n_neighbors=30)"
      ],
      "execution_count": null,
      "outputs": []
    },
    {
      "cell_type": "markdown",
      "metadata": {
        "id": "e6Qt3prH8yFb"
      },
      "source": [
        "### SVM"
      ]
    },
    {
      "cell_type": "code",
      "metadata": {
        "colab": {
          "base_uri": "https://localhost:8080/"
        },
        "id": "DFBupgtH8zcr",
        "outputId": "d9cdb033-8061-4d2a-c6ad-9b8228c0bb1d"
      },
      "source": [
        "from sklearn.svm import SVC\n",
        "\n",
        "svc = SVC()\n",
        "\n",
        "param_grid = [\n",
        "    {\n",
        "        \"kernel\": ['rbf','linear'],\n",
        "        \"gamma\": [1e-3, 1e-4, 0.05, 0.1, 0.15],\n",
        "        \"C\": [1, 10, 100, 1000]\n",
        "    }\n",
        "]\n",
        "svc_gridserach = GridSearchCV(svc, cv=rkf, n_jobs=8,\n",
        "                              param_grid=param_grid,\n",
        "                              return_train_score=True, \n",
        "                              scoring='recall')\n",
        "svc_gridserach.fit(x_train, y_train)"
      ],
      "execution_count": null,
      "outputs": [
        {
          "output_type": "execute_result",
          "data": {
            "text/plain": [
              "GridSearchCV(cv=RepeatedKFold(n_repeats=10, n_splits=10, random_state=10),\n",
              "             error_score=nan,\n",
              "             estimator=SVC(C=1.0, break_ties=False, cache_size=200,\n",
              "                           class_weight=None, coef0=0.0,\n",
              "                           decision_function_shape='ovr', degree=3,\n",
              "                           gamma='scale', kernel='rbf', max_iter=-1,\n",
              "                           probability=False, random_state=None, shrinking=True,\n",
              "                           tol=0.001, verbose=False),\n",
              "             iid='deprecated', n_jobs=8,\n",
              "             param_grid=[{'C': [1, 10, 100, 1000],\n",
              "                          'gamma': [0.001, 0.0001, 0.05, 0.1, 0.15],\n",
              "                          'kernel': ['rbf', 'linear']}],\n",
              "             pre_dispatch='2*n_jobs', refit=True, return_train_score=True,\n",
              "             scoring='recall', verbose=0)"
            ]
          },
          "metadata": {},
          "execution_count": 221
        }
      ]
    },
    {
      "cell_type": "code",
      "metadata": {
        "colab": {
          "base_uri": "https://localhost:8080/"
        },
        "id": "kustz4QKJABK",
        "outputId": "11e8dace-310e-43b3-e627-b31b33afc7ef"
      },
      "source": [
        "svc_gridserach.best_params_"
      ],
      "execution_count": 243,
      "outputs": [
        {
          "output_type": "execute_result",
          "data": {
            "text/plain": [
              "{'C': 1, 'gamma': 0.001, 'kernel': 'rbf'}"
            ]
          },
          "metadata": {},
          "execution_count": 243
        }
      ]
    },
    {
      "cell_type": "code",
      "metadata": {
        "colab": {
          "base_uri": "https://localhost:8080/"
        },
        "id": "dPkVS0-1JxlF",
        "outputId": "f90be66d-d248-4b7c-a8bf-96e477b239c6"
      },
      "source": [
        "svc_gridserach.best_score_"
      ],
      "execution_count": null,
      "outputs": [
        {
          "output_type": "execute_result",
          "data": {
            "text/plain": [
              "1.0"
            ]
          },
          "metadata": {},
          "execution_count": 230
        }
      ]
    },
    {
      "cell_type": "code",
      "metadata": {
        "id": "THQocvLehOEF"
      },
      "source": [
        "svc = SVC(C=1, gamma=0.001, kernel='rbf')"
      ],
      "execution_count": null,
      "outputs": []
    },
    {
      "cell_type": "markdown",
      "metadata": {
        "id": "0nbDex46KjO3"
      },
      "source": [
        "### XGBoost"
      ]
    },
    {
      "cell_type": "code",
      "metadata": {
        "colab": {
          "base_uri": "https://localhost:8080/"
        },
        "id": "3DhE0giEJ0QA",
        "outputId": "51fba8a1-159f-4efa-e0c7-01821f5bce11"
      },
      "source": [
        "import xgboost as xgb\n",
        "\n",
        "xgb_clf = xgb.XGBClassifier()\n",
        "\n",
        "param_grid = [\n",
        "    {\n",
        "     \"learning_rate\"    : [ 0.01, 0.30],\n",
        "     \"max_depth\"        : [ 3, 4, 10,],\n",
        "     \"gamma\"            : [ 0.0, 0.1, 0.2],\n",
        "     \"colsample_bytree\" : [ 0.3, 0.4, 0.5]\n",
        "    }\n",
        "]\n",
        "\n",
        "xgb_gridserach = GridSearchCV(xgb_clf, cv=rkf, n_jobs=8,\n",
        "                              param_grid=param_grid,\n",
        "                              return_train_score=True, \n",
        "                              scoring='recall')\n",
        "xgb_gridserach.fit(x_train, y_train)\n"
      ],
      "execution_count": null,
      "outputs": [
        {
          "output_type": "execute_result",
          "data": {
            "text/plain": [
              "GridSearchCV(cv=RepeatedKFold(n_repeats=10, n_splits=10, random_state=10),\n",
              "             error_score=nan,\n",
              "             estimator=XGBClassifier(base_score=0.5, booster='gbtree',\n",
              "                                     colsample_bylevel=1, colsample_bynode=1,\n",
              "                                     colsample_bytree=1, gamma=0,\n",
              "                                     learning_rate=0.1, max_delta_step=0,\n",
              "                                     max_depth=3, min_child_weight=1,\n",
              "                                     missing=None, n_estimators=100, n_jobs=1,\n",
              "                                     nthread=None, objective='binary:logistic',\n",
              "                                     random_state=0, reg_alpha=0, reg_lambda=1,\n",
              "                                     scale_pos_weight=1, seed=None, silent=None,\n",
              "                                     subsample=1, verbosity=1),\n",
              "             iid='deprecated', n_jobs=8,\n",
              "             param_grid=[{'colsample_bytree': [0.3, 0.4, 0.5],\n",
              "                          'gamma': [0.0, 0.1, 0.2],\n",
              "                          'learning_rate': [0.01, 0.3],\n",
              "                          'max_depth': [3, 4, 10]}],\n",
              "             pre_dispatch='2*n_jobs', refit=True, return_train_score=True,\n",
              "             scoring='recall', verbose=0)"
            ]
          },
          "metadata": {},
          "execution_count": 231
        }
      ]
    },
    {
      "cell_type": "code",
      "metadata": {
        "colab": {
          "base_uri": "https://localhost:8080/"
        },
        "id": "eQjG20d3OA6W",
        "outputId": "211ef6cf-e108-4cfd-de46-d376f675b95a"
      },
      "source": [
        "xgb_gridserach.best_params_"
      ],
      "execution_count": null,
      "outputs": [
        {
          "output_type": "execute_result",
          "data": {
            "text/plain": [
              "{'colsample_bytree': 0.3, 'gamma': 0.0, 'learning_rate': 0.01, 'max_depth': 3}"
            ]
          },
          "metadata": {},
          "execution_count": 232
        }
      ]
    },
    {
      "cell_type": "code",
      "metadata": {
        "colab": {
          "base_uri": "https://localhost:8080/"
        },
        "id": "UQ7IlnRUOU-D",
        "outputId": "af2482bb-c688-4ba0-8a3d-7bbb3467feef"
      },
      "source": [
        "xgb_gridserach.best_score_"
      ],
      "execution_count": null,
      "outputs": [
        {
          "output_type": "execute_result",
          "data": {
            "text/plain": [
              "1.0"
            ]
          },
          "metadata": {},
          "execution_count": 233
        }
      ]
    },
    {
      "cell_type": "code",
      "metadata": {
        "id": "UwgSjmXwhYf4"
      },
      "source": [
        "xg = xgb.XGBClassifier(colsample_bytree=0.3, gamma=0.0, learning_rate=0.01, max_depth=3)"
      ],
      "execution_count": null,
      "outputs": []
    },
    {
      "cell_type": "markdown",
      "metadata": {
        "id": "W90EU4gda98W"
      },
      "source": [
        "### Voting Classifier"
      ]
    },
    {
      "cell_type": "code",
      "metadata": {
        "id": "apXHKGPzOaNa",
        "colab": {
          "base_uri": "https://localhost:8080/"
        },
        "outputId": "efbd7154-2a8c-438f-cd69-564c8a85c800"
      },
      "source": [
        "from sklearn.ensemble import VotingClassifier\n",
        "\n",
        "rf = RandomForestClassifier(n_estimators=400, min_samples_leaf=1)\n",
        "knn = KNeighborsClassifier(n_neighbors=30)\n",
        "svc = SVC(C=1, gamma=0.001, kernel='rbf')\n",
        "xg = xgb.XGBClassifier(colsample_bytree=0.3, gamma=0.0, learning_rate=0.01, max_depth=3)\n",
        "\n",
        "voting_clf = VotingClassifier(estimators=[('Logistic_regresion', log_reg),\n",
        "                                          ('Random_forest', rf),\n",
        "                                          ('Knn', knn),\n",
        "                                          ('Svm',svc), \n",
        "                                          ('XGBoost', xg)],\n",
        "                              voting = 'hard')\n",
        "for clf, label in zip([log_reg, rf, knn, svc, xg], ['Logistic_regresion', 'Random_forest', 'Knn', 'Svm', 'XGBoost']):\n",
        "  scores = cross_val_score(clf, x_train, y_train, scoring='recall', cv=3)\n",
        "  print(\"Accuracy: %0.2f (+/- %0.2f) [%s]\" % (scores.mean(), scores.std(), label))"
      ],
      "execution_count": 250,
      "outputs": [
        {
          "output_type": "stream",
          "name": "stdout",
          "text": [
            "Accuracy: 0.99 (+/- 0.00) [Logistic_regresion]\n",
            "Accuracy: 0.99 (+/- 0.00) [Random_forest]\n",
            "Accuracy: 0.99 (+/- 0.00) [Knn]\n",
            "Accuracy: 1.00 (+/- 0.00) [Svm]\n",
            "Accuracy: 1.00 (+/- 0.00) [XGBoost]\n"
          ]
        }
      ]
    },
    {
      "cell_type": "code",
      "metadata": {
        "id": "pyKEPd1XbK_h",
        "colab": {
          "base_uri": "https://localhost:8080/"
        },
        "outputId": "9c839a62-4f24-49d0-85a7-574cb3a15dff"
      },
      "source": [
        "voting_clf.fit(x_train, y_train)"
      ],
      "execution_count": 252,
      "outputs": [
        {
          "output_type": "execute_result",
          "data": {
            "text/plain": [
              "VotingClassifier(estimators=[('Logistic_regresion',\n",
              "                              LogisticRegression(C=1.0, class_weight=None,\n",
              "                                                 dual=False, fit_intercept=True,\n",
              "                                                 intercept_scaling=1,\n",
              "                                                 l1_ratio=None, max_iter=100,\n",
              "                                                 multi_class='auto',\n",
              "                                                 n_jobs=None, penalty='l2',\n",
              "                                                 random_state=None,\n",
              "                                                 solver='lbfgs', tol=0.0001,\n",
              "                                                 verbose=0, warm_start=False)),\n",
              "                             ('Random_forest',\n",
              "                              RandomForestClassifier(bootstrap=True,\n",
              "                                                     ccp_alp...\n",
              "                                            colsample_bynode=1,\n",
              "                                            colsample_bytree=0.3, gamma=0.0,\n",
              "                                            learning_rate=0.01,\n",
              "                                            max_delta_step=0, max_depth=3,\n",
              "                                            min_child_weight=1, missing=None,\n",
              "                                            n_estimators=100, n_jobs=1,\n",
              "                                            nthread=None,\n",
              "                                            objective='binary:logistic',\n",
              "                                            random_state=0, reg_alpha=0,\n",
              "                                            reg_lambda=1, scale_pos_weight=1,\n",
              "                                            seed=None, silent=None, subsample=1,\n",
              "                                            verbosity=1))],\n",
              "                 flatten_transform=True, n_jobs=None, voting='hard',\n",
              "                 weights=None)"
            ]
          },
          "metadata": {},
          "execution_count": 252
        }
      ]
    },
    {
      "cell_type": "code",
      "metadata": {
        "id": "lkbInUlge8dO"
      },
      "source": [
        "y_voting_pred = voting_clf.predict(x_test)"
      ],
      "execution_count": 253,
      "outputs": []
    },
    {
      "cell_type": "code",
      "metadata": {
        "colab": {
          "base_uri": "https://localhost:8080/"
        },
        "id": "G7PBo9jbihhQ",
        "outputId": "e4acdcb9-bcea-4128-aee9-3ee775c022f9"
      },
      "source": [
        "score_voting = recall_score(y_test, y_voting_pred)\n",
        "print(\"Recall score for voting classifier: \", score_voting) #0.9984871406959153"
      ],
      "execution_count": 258,
      "outputs": [
        {
          "output_type": "stream",
          "name": "stdout",
          "text": [
            "Recall score for voting classifier:  0.9984871406959153\n"
          ]
        }
      ]
    },
    {
      "cell_type": "code",
      "metadata": {
        "id": "TO8I6CQXithl"
      },
      "source": [
        ""
      ],
      "execution_count": null,
      "outputs": []
    }
  ]
}